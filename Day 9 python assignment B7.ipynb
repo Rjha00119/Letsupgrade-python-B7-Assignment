{
 "cells": [
  {
   "cell_type": "code",
   "execution_count": 1,
   "metadata": {},
   "outputs": [
    {
     "name": "stdout",
     "output_type": "stream",
     "text": [
      "Writing test_prime.py\n"
     ]
    }
   ],
   "source": [
    "%%writefile test_prime.py\n",
    "\n",
    "\"\"\"Let the prime list be empty at first.\"\"\"\n",
    "primes = []\n",
    "\n",
    "for possiblePrime in range(2,200):\n",
    "    ISPRIME = True\n",
    "    for num in range(2, possiblePrime):\n",
    "        if possiblePrime % num == 0:\n",
    "            ISPRIME = False\n",
    "    if ISPRIME:\n",
    "        primes.append(possiblePrime)\n",
    "\n",
    "print(primes)"
   ]
  },
  {
   "cell_type": "code",
   "execution_count": 3,
   "metadata": {},
   "outputs": [
    {
     "name": "stdout",
     "output_type": "stream",
     "text": [
      "************* Module test_prime\n",
      "test_prime.py:5:28: C0326: Exactly one space required after comma\n",
      "for possiblePrime in range(2,200):\n",
      "\n",
      "                            ^ (bad-whitespace)\n",
      "\n",
      "------------------------------------------------------------------\n",
      "\n",
      "Your code has been rated at 8.89/10 (previous run: 8.89/10, +0.00)\n",
      "\n",
      "\n",
      "\n"
     ]
    }
   ],
   "source": [
    "! pylint \"test_prime.py\"\n"
   ]
  },
  {
   "cell_type": "code",
   "execution_count": 4,
   "metadata": {},
   "outputs": [
    {
     "name": "stdout",
     "output_type": "stream",
     "text": [
      "Writing final_test_prime.py\n"
     ]
    }
   ],
   "source": [
    "%%writefile final_test_prime.py\n",
    "\n",
    "\"\"\"This is final test whether a number is prime or not.\"\"\"\n",
    "import unittest\n",
    "from we_test_prime import is_prime\n",
    "\n",
    "class PrimesTestCase(unittest.TestCase):\n",
    "    \"\"\"Tests for `primes.py`.\"\"\"\n",
    "\n",
    "    def test_is_five_prime(self):\n",
    "        \"\"\"Is five successfully determined to be prime?\"\"\"\n",
    "        self.assertTrue(is_prime(5))\n",
    "\n",
    "if __name__ == '__main_"
   ]
  }
 ],
 "metadata": {
  "kernelspec": {
   "display_name": "Python 3",
   "language": "python",
   "name": "python3"
  },
  "language_info": {
   "codemirror_mode": {
    "name": "ipython",
    "version": 3
   },
   "file_extension": ".py",
   "mimetype": "text/x-python",
   "name": "python",
   "nbconvert_exporter": "python",
   "pygments_lexer": "ipython3",
   "version": "3.8.3"
  }
 },
 "nbformat": 4,
 "nbformat_minor": 4
}
