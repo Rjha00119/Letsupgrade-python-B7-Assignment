{
 "cells": [
  {
   "cell_type": "markdown",
   "metadata": {},
   "source": [
    "# Q1.\n"
   ]
  },
  {
   "cell_type": "code",
   "execution_count": null,
   "metadata": {},
   "outputs": [],
   "source": [
    "\n",
    "def getInput(calculate_arg_fun):\n",
    "    \n",
    "    def wrap_function():\n",
    "    \n",
    "        a = int(input(\"\\nEnter First Number - \"))\n",
    "        \n",
    "        b = int(input(\"\\nEnter Second Number - \"))\n",
    "        \n",
    "        calculate_arg_fun(a,b)   \n",
    "    \n",
    "    return wrap_function"
   ]
  },
  {
   "cell_type": "code",
   "execution_count": null,
   "metadata": {},
   "outputs": [],
   "source": [
    "\n",
    "@getInput\n",
    "\n",
    "def EvenFinder(start, last):\n",
    "    \n",
    "    print(\"\\nThe Even numbers in the range\",start,\"to\",last,\"is :\\n\")\n",
    "\n",
    "    for n in range(start, last + 1): \n",
    "      \n",
    "        if n % 2 == 0: \n",
    "            \n",
    "            print(n, end = \" \")"
   ]
  },
  {
   "cell_type": "code",
   "execution_count": null,
   "metadata": {},
   "outputs": [],
   "source": [
    "EvenFinder()"
   ]
  },
  {
   "cell_type": "markdown",
   "metadata": {},
   "source": [
    "# Q2."
   ]
  },
  {
   "cell_type": "code",
   "execution_count": null,
   "metadata": {},
   "outputs": [],
   "source": [
    "%%writefile test.txt\n",
    "\n",
    "Hi this is Roushan jha\n",
    "i am a professinal web devloper\n"
   ]
  },
  {
   "cell_type": "code",
   "execution_count": null,
   "metadata": {},
   "outputs": [],
   "source": [
    "\n",
    "try:\n",
    "    \n",
    "    file = open(\"test.txt\",\"r\")\n",
    "    \n",
    "    file.write(\"\\nI am from chennai.\")\n",
    "    \n",
    "    print(\"\\nWrite operation has done successfully in read only mode.\")\n",
    "    \n",
    "except Exception as e:\n",
    "    \n",
    "    print(\"\\nError has been occured\")\n",
    "    \n",
    "    print(\"\\nError message is :\",e)"
   ]
  }
 ],
 "metadata": {
  "kernelspec": {
   "display_name": "Python 3",
   "language": "python",
   "name": "python3"
  },
  "language_info": {
   "codemirror_mode": {
    "name": "ipython",
    "version": 3
   },
   "file_extension": ".py",
   "mimetype": "text/x-python",
   "name": "python",
   "nbconvert_exporter": "python",
   "pygments_lexer": "ipython3",
   "version": "3.8.3"
  }
 },
 "nbformat": 4,
 "nbformat_minor": 4
}
