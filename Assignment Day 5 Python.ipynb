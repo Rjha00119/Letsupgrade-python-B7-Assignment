{
 "cells": [
  {
   "cell_type": "markdown",
   "metadata": {},
   "source": [
    "# Q1."
   ]
  },
  {
   "cell_type": "code",
   "execution_count": null,
   "metadata": {},
   "outputs": [],
   "source": [
    "\n",
    "lst = [1, 1, 5]\n",
    "\n",
    "lst1 = []\n",
    "\n",
    "l = int(input(\"\\nEnter the length of the list : \"))\n",
    "\n",
    "j = 0;\n",
    "\n",
    "# creating a list from user value\n",
    "\n",
    "for i in range (0,l):\n",
    "\n",
    "    lst1.append(int(input(\"\\nEnter the number for the list : \")))\n",
    "\n",
    "print()\n",
    "\n",
    "print(\"List is : \", lst1)\n",
    "\n",
    "for i in range(0,l):\n",
    "    \n",
    "    if( lst1[i] == lst[j] ):\n",
    "        \n",
    "        j += 1\n",
    "        \n",
    "        i += 1\n",
    "        \n",
    "    else:\n",
    "        \n",
    "        i +=1\n",
    "    \n",
    "if( j == 3 ):\n",
    "\n",
    "    print (\"\\nIt's a match\")\n",
    "\n",
    "else:\n",
    "\n",
    "    print (\"\\nIt's Gone\")"
   ]
  },
  {
   "cell_type": "markdown",
   "metadata": {},
   "source": [
    "# Q2.\n"
   ]
  },
  {
   "cell_type": "code",
   "execution_count": null,
   "metadata": {},
   "outputs": [],
   "source": [
    "\n",
    "def prime(i):\n",
    "    \n",
    "    for j in range(2,i):\n",
    "        \n",
    "        if i % j == 0:\n",
    "        \n",
    "            break\n",
    "        \n",
    "    else:\n",
    "        \n",
    "        return i\n",
    "\n",
    "primeNo = filter(prime, range(1, 2500+1))\n",
    "\n",
    "print ('\\nPrime numbers between 1-2500:\\n')\n",
    "\n",
    "print(list(primeNo))"
   ]
  },
  {
   "cell_type": "markdown",
   "metadata": {},
   "source": [
    "# Q3."
   ]
  },
  {
   "cell_type": "code",
   "execution_count": null,
   "metadata": {},
   "outputs": [],
   "source": [
    "# Make a Lambda function for capitalizing the whole sentence passed using arguments.\n",
    "# And map all the sentences in the List, with the lambda functions\n",
    "\n",
    "lst = [\"hey this i ajay\",\"i am from chennai\"]\n",
    "\n",
    "print(\"\\nOriginal list : \\n\")\n",
    "\n",
    "print(lst)\n",
    "\n",
    "result = list(map(lambda words: \" \".join([word.capitalize() for word in words.split( )]) ,lst))\n",
    "\n",
    "print(\"\\nCapitalized list is : \\n\")\n",
    "\n",
    "print(result)"
   ]
  }
 ],
 "metadata": {
  "kernelspec": {
   "display_name": "Python 3",
   "language": "python",
   "name": "python3"
  },
  "language_info": {
   "codemirror_mode": {
    "name": "ipython",
    "version": 3
   },
   "file_extension": ".py",
   "mimetype": "text/x-python",
   "name": "python",
   "nbconvert_exporter": "python",
   "pygments_lexer": "ipython3",
   "version": "3.8.3"
  }
 },
 "nbformat": 4,
 "nbformat_minor": 4
}
